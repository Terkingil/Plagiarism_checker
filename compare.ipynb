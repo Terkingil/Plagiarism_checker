{
  "cells": [
    {
      "cell_type": "code",
      "execution_count": null,
      "metadata": {
        "id": "8yJTL-K1zdEu"
      },
      "outputs": [],
      "source": [
        "import numpy as np\n",
        "import ast\n",
        "import re"
      ]
    },
    {
      "cell_type": "code",
      "source": [
        "import argparse\n",
        "\n",
        "parser = argparse.ArgumentParser(description='Plagiarism_checker')\n",
        "parser.add_argument('fromd', type=str, help='Input directory to analyze')\n",
        "parser.add_argument('tod', type=str, help='Output directory for result')\n",
        "args = parser.parse_args()\n"
      ],
      "metadata": {
        "id": "VgvIOzSAbvtB"
      },
      "execution_count": null,
      "outputs": []
    },
    {
      "cell_type": "code",
      "source": [
        "from google.colab import files\n",
        "uploaded = files.upload()"
      ],
      "metadata": {
        "colab": {
          "base_uri": "https://localhost:8080/",
          "height": 107
        },
        "id": "XJpMBfAladmg",
        "outputId": "8932408f-1ba2-4010-c115-d86a25db5ee4"
      },
      "execution_count": 288,
      "outputs": [
        {
          "output_type": "display_data",
          "data": {
            "text/plain": [
              "<IPython.core.display.HTML object>"
            ],
            "text/html": [
              "\n",
              "     <input type=\"file\" id=\"files-1c03cca1-936a-4780-b24a-4c97a6e164f5\" name=\"files[]\" multiple disabled\n",
              "        style=\"border:none\" />\n",
              "     <output id=\"result-1c03cca1-936a-4780-b24a-4c97a6e164f5\">\n",
              "      Upload widget is only available when the cell has been executed in the\n",
              "      current browser session. Please rerun this cell to enable.\n",
              "      </output>\n",
              "      <script>// Copyright 2017 Google LLC\n",
              "//\n",
              "// Licensed under the Apache License, Version 2.0 (the \"License\");\n",
              "// you may not use this file except in compliance with the License.\n",
              "// You may obtain a copy of the License at\n",
              "//\n",
              "//      http://www.apache.org/licenses/LICENSE-2.0\n",
              "//\n",
              "// Unless required by applicable law or agreed to in writing, software\n",
              "// distributed under the License is distributed on an \"AS IS\" BASIS,\n",
              "// WITHOUT WARRANTIES OR CONDITIONS OF ANY KIND, either express or implied.\n",
              "// See the License for the specific language governing permissions and\n",
              "// limitations under the License.\n",
              "\n",
              "/**\n",
              " * @fileoverview Helpers for google.colab Python module.\n",
              " */\n",
              "(function(scope) {\n",
              "function span(text, styleAttributes = {}) {\n",
              "  const element = document.createElement('span');\n",
              "  element.textContent = text;\n",
              "  for (const key of Object.keys(styleAttributes)) {\n",
              "    element.style[key] = styleAttributes[key];\n",
              "  }\n",
              "  return element;\n",
              "}\n",
              "\n",
              "// Max number of bytes which will be uploaded at a time.\n",
              "const MAX_PAYLOAD_SIZE = 100 * 1024;\n",
              "\n",
              "function _uploadFiles(inputId, outputId) {\n",
              "  const steps = uploadFilesStep(inputId, outputId);\n",
              "  const outputElement = document.getElementById(outputId);\n",
              "  // Cache steps on the outputElement to make it available for the next call\n",
              "  // to uploadFilesContinue from Python.\n",
              "  outputElement.steps = steps;\n",
              "\n",
              "  return _uploadFilesContinue(outputId);\n",
              "}\n",
              "\n",
              "// This is roughly an async generator (not supported in the browser yet),\n",
              "// where there are multiple asynchronous steps and the Python side is going\n",
              "// to poll for completion of each step.\n",
              "// This uses a Promise to block the python side on completion of each step,\n",
              "// then passes the result of the previous step as the input to the next step.\n",
              "function _uploadFilesContinue(outputId) {\n",
              "  const outputElement = document.getElementById(outputId);\n",
              "  const steps = outputElement.steps;\n",
              "\n",
              "  const next = steps.next(outputElement.lastPromiseValue);\n",
              "  return Promise.resolve(next.value.promise).then((value) => {\n",
              "    // Cache the last promise value to make it available to the next\n",
              "    // step of the generator.\n",
              "    outputElement.lastPromiseValue = value;\n",
              "    return next.value.response;\n",
              "  });\n",
              "}\n",
              "\n",
              "/**\n",
              " * Generator function which is called between each async step of the upload\n",
              " * process.\n",
              " * @param {string} inputId Element ID of the input file picker element.\n",
              " * @param {string} outputId Element ID of the output display.\n",
              " * @return {!Iterable<!Object>} Iterable of next steps.\n",
              " */\n",
              "function* uploadFilesStep(inputId, outputId) {\n",
              "  const inputElement = document.getElementById(inputId);\n",
              "  inputElement.disabled = false;\n",
              "\n",
              "  const outputElement = document.getElementById(outputId);\n",
              "  outputElement.innerHTML = '';\n",
              "\n",
              "  const pickedPromise = new Promise((resolve) => {\n",
              "    inputElement.addEventListener('change', (e) => {\n",
              "      resolve(e.target.files);\n",
              "    });\n",
              "  });\n",
              "\n",
              "  const cancel = document.createElement('button');\n",
              "  inputElement.parentElement.appendChild(cancel);\n",
              "  cancel.textContent = 'Cancel upload';\n",
              "  const cancelPromise = new Promise((resolve) => {\n",
              "    cancel.onclick = () => {\n",
              "      resolve(null);\n",
              "    };\n",
              "  });\n",
              "\n",
              "  // Wait for the user to pick the files.\n",
              "  const files = yield {\n",
              "    promise: Promise.race([pickedPromise, cancelPromise]),\n",
              "    response: {\n",
              "      action: 'starting',\n",
              "    }\n",
              "  };\n",
              "\n",
              "  cancel.remove();\n",
              "\n",
              "  // Disable the input element since further picks are not allowed.\n",
              "  inputElement.disabled = true;\n",
              "\n",
              "  if (!files) {\n",
              "    return {\n",
              "      response: {\n",
              "        action: 'complete',\n",
              "      }\n",
              "    };\n",
              "  }\n",
              "\n",
              "  for (const file of files) {\n",
              "    const li = document.createElement('li');\n",
              "    li.append(span(file.name, {fontWeight: 'bold'}));\n",
              "    li.append(span(\n",
              "        `(${file.type || 'n/a'}) - ${file.size} bytes, ` +\n",
              "        `last modified: ${\n",
              "            file.lastModifiedDate ? file.lastModifiedDate.toLocaleDateString() :\n",
              "                                    'n/a'} - `));\n",
              "    const percent = span('0% done');\n",
              "    li.appendChild(percent);\n",
              "\n",
              "    outputElement.appendChild(li);\n",
              "\n",
              "    const fileDataPromise = new Promise((resolve) => {\n",
              "      const reader = new FileReader();\n",
              "      reader.onload = (e) => {\n",
              "        resolve(e.target.result);\n",
              "      };\n",
              "      reader.readAsArrayBuffer(file);\n",
              "    });\n",
              "    // Wait for the data to be ready.\n",
              "    let fileData = yield {\n",
              "      promise: fileDataPromise,\n",
              "      response: {\n",
              "        action: 'continue',\n",
              "      }\n",
              "    };\n",
              "\n",
              "    // Use a chunked sending to avoid message size limits. See b/62115660.\n",
              "    let position = 0;\n",
              "    do {\n",
              "      const length = Math.min(fileData.byteLength - position, MAX_PAYLOAD_SIZE);\n",
              "      const chunk = new Uint8Array(fileData, position, length);\n",
              "      position += length;\n",
              "\n",
              "      const base64 = btoa(String.fromCharCode.apply(null, chunk));\n",
              "      yield {\n",
              "        response: {\n",
              "          action: 'append',\n",
              "          file: file.name,\n",
              "          data: base64,\n",
              "        },\n",
              "      };\n",
              "\n",
              "      let percentDone = fileData.byteLength === 0 ?\n",
              "          100 :\n",
              "          Math.round((position / fileData.byteLength) * 100);\n",
              "      percent.textContent = `${percentDone}% done`;\n",
              "\n",
              "    } while (position < fileData.byteLength);\n",
              "  }\n",
              "\n",
              "  // All done.\n",
              "  yield {\n",
              "    response: {\n",
              "      action: 'complete',\n",
              "    }\n",
              "  };\n",
              "}\n",
              "\n",
              "scope.google = scope.google || {};\n",
              "scope.google.colab = scope.google.colab || {};\n",
              "scope.google.colab._files = {\n",
              "  _uploadFiles,\n",
              "  _uploadFilesContinue,\n",
              "};\n",
              "})(self);\n",
              "</script> "
            ]
          },
          "metadata": {}
        },
        {
          "output_type": "stream",
          "name": "stdout",
          "text": [
            "Saving lossy.py to lossy.py\n",
            "Saving main.py to main.py\n"
          ]
        }
      ]
    },
    {
      "cell_type": "markdown",
      "source": [
        "# Вычисление расстояния Левенштейна"
      ],
      "metadata": {
        "id": "Piy1wDIyoJSg"
      }
    },
    {
      "cell_type": "code",
      "source": [
        "def lev(a,b):\n",
        "\n",
        "  if a==b:\n",
        "    return 0\n",
        "\n",
        "  l_a = len(a)\n",
        "  l_b = len(b)\n",
        "  \n",
        "  s1 = [i for i in range(l_a+1)] # Так как для алгоритма нужны только две строки матрицы,\n",
        "  s2 = [i for i in range(l_b+1)] # Будем использовать два однромерных массива вместо неё\n",
        "\n",
        "\n",
        "  for i in range(1,l_a+1):\n",
        "\n",
        "    s2_new = [i for i in range(l_b+1)]\n",
        "    s2_new[0] = i # массив новой строки с первым элем на 1 больше\n",
        "\n",
        "\n",
        "    for j in range(1, l_b+1):\n",
        "\n",
        "\n",
        "      eq_letters = 1     \n",
        "      if a[i-1] == b[j-1]:\n",
        "        eq_letters = 0\n",
        "      \n",
        "      s2_new[j]=min(s2_new[j-1]+1,s2[j]+1,s2[j-1]+eq_letters)\n",
        "\n",
        "\n",
        "    s2=s2_new\n",
        "  \n",
        "  return s2[-1]\n"
      ],
      "metadata": {
        "id": "qyeAzmNpck_E"
      },
      "execution_count": 290,
      "outputs": []
    },
    {
      "cell_type": "code",
      "source": [
        "lev(\"котик\",\"скотина\")"
      ],
      "metadata": {
        "colab": {
          "base_uri": "https://localhost:8080/"
        },
        "id": "bQsg5LNYT4nc",
        "outputId": "a62c00d0-bcdb-4813-d957-8be59564a709"
      },
      "execution_count": 291,
      "outputs": [
        {
          "output_type": "execute_result",
          "data": {
            "text/plain": [
              "3"
            ]
          },
          "metadata": {},
          "execution_count": 291
        }
      ]
    },
    {
      "cell_type": "markdown",
      "source": [
        "# Метрика \"похожести\" программ"
      ],
      "metadata": {
        "id": "sksv_RBc_tZ0"
      }
    },
    {
      "cell_type": "code",
      "source": [
        "def sim(a,b):\n",
        "\n",
        "  l_a = len(a)\n",
        "  l_b = len(b)\n",
        "\n",
        "  ans = (1-lev(a,b)/(max(l_a,l_b)))\n",
        "  ans = str(float('{:.3f}'.format(ans*100))) + \"%\"\n",
        "\n",
        "  return ans"
      ],
      "metadata": {
        "id": "daKv1QUk8sFH"
      },
      "execution_count": 292,
      "outputs": []
    },
    {
      "cell_type": "markdown",
      "source": [
        "Сначала предобратываем код: Преобразовываем в дерево. Так как, это учитывает удаление комментариев и лишних пробелов, для улучшения точности работы остается удалить import в полученном дереве\n",
        "\n",
        "Также любое дерево начинается и заканичватеся одинкаово эти части тоже стоит обрезать для повышения точности "
      ],
      "metadata": {
        "id": "FE9vZXkjqkai"
      }
    },
    {
      "cell_type": "markdown",
      "source": [
        "# Функция удаления импортов из AST"
      ],
      "metadata": {
        "id": "vDarQdIZozhk"
      }
    },
    {
      "cell_type": "code",
      "source": [
        "def removeImports(dump):\n",
        "# Ищем сначала ImportFrom, затем Import для лучшей работы\n",
        "\n",
        "  while re.search(r'ImportFrom',dump):\n",
        "    beg=re.search(r'ImportFrom',dump).span()# Если нашелся импорт ищем начало откуда удалять\n",
        "\n",
        "    \n",
        "    cnt=1\n",
        "    isImport=True\n",
        "    i=beg[1]+1\n",
        "    while isImport:#Алгоритм: Ищем скобку закрывающую импорт, а затем удаляем этот блок\n",
        "      if dump[i]==\"(\":\n",
        "        cnt+=1\n",
        "      elif dump[i]==\")\":\n",
        "        cnt-=1\n",
        "      if cnt==0:\n",
        "        isImport=False\n",
        "      i+=1\n",
        "    \n",
        "  \n",
        "    dump=dump[:beg[0]]+dump[i+2:]\n",
        "\n",
        "\n",
        "  while re.search(r'Import',dump):\n",
        "    beg=re.search(r'Import',dump).span()# Если нашелся импорт ищем начало откуда удалять\n",
        "\n",
        "    \n",
        "    cnt=1\n",
        "    isImport=True\n",
        "    i=beg[1]+1  # Конец нахождения Import\n",
        "    while isImport:\n",
        "      if dump[i]==\"(\":\n",
        "        cnt+=1\n",
        "      elif dump[i]==\")\":\n",
        "        cnt-=1\n",
        "      if cnt==0:\n",
        "        isImport=False\n",
        "      i+=1\n",
        "    \n",
        "    \n",
        "    dump=dump[:beg[0]]+dump[i+2:]#+2 чтобы удалить последний символ и скобку за ним\n",
        "  #for i in range(len(dump)):\n",
        "  return dump\n",
        "    "
      ],
      "metadata": {
        "id": "Hi_56ixuTmgG"
      },
      "execution_count": 293,
      "outputs": []
    },
    {
      "cell_type": "code",
      "source": [
        "a=\"Module(body=[Import(names=[alias(name='ast', asname=None)])], type_ignores=[])\"\n",
        "print(\"Было: \",a)\n",
        "print(\"Стало: \",removeImports(a)) # Все скобки в дальнейшем удаляться\n",
        "#Было:  Module(body=[Import(names=[alias(name='ast', asname=None)])], type_ignores=[])\n",
        "#Стало:  Module(body=[ type_ignores=[])\n"
      ],
      "metadata": {
        "colab": {
          "base_uri": "https://localhost:8080/"
        },
        "id": "dNTac8PuAk8E",
        "outputId": "3f836969-6eb7-483e-ded1-d51fc3da43f7"
      },
      "execution_count": 294,
      "outputs": [
        {
          "output_type": "stream",
          "name": "stdout",
          "text": [
            "Было:  Module(body=[Import(names=[alias(name='ast', asname=None)])], type_ignores=[])\n",
            "Стало:  Module(body=[ type_ignores=[])\n"
          ]
        }
      ]
    },
    {
      "cell_type": "markdown",
      "source": [
        "# Чтение списка файлов"
      ],
      "metadata": {
        "id": "b-pu2Jqbs5Pa"
      }
    },
    {
      "cell_type": "code",
      "execution_count": 295,
      "metadata": {
        "id": "mqDPIvxN3rNN"
      },
      "outputs": [],
      "source": [
        "with open(\"input.txt\") as f:\n",
        "  files_list = f.read().split('\\n')\n",
        "\n",
        "for i in range(len(files_list)):\n",
        "  files_list[i] = files_list[i].split() #Разбиваем список пар файлов в массив"
      ]
    },
    {
      "cell_type": "code",
      "source": [
        "res=open(\"scores1.txt\",\"w\")\n",
        "res.write(\"Процент совпадения для файлов:\\n\")"
      ],
      "metadata": {
        "colab": {
          "base_uri": "https://localhost:8080/"
        },
        "id": "n4iLXLsw77Nt",
        "outputId": "db6e88c4-929a-4981-9a83-1b1f8c6ab38a"
      },
      "execution_count": 296,
      "outputs": [
        {
          "output_type": "execute_result",
          "data": {
            "text/plain": [
              "31"
            ]
          },
          "metadata": {},
          "execution_count": 296
        }
      ]
    },
    {
      "cell_type": "code",
      "source": [
        "for pare_of_files in files_list:#Для каждой пары считаем процент схожих символов в файлах\n",
        "\n",
        "  with open(pare_of_files[0]) as f1:\n",
        "    firstf = f1.read()\n",
        "  \n",
        "  with open(pare_of_files[1]) as f2:\n",
        "    secondf = f2.read()\n",
        "\n",
        "  #Предрабатываем первый файл\n",
        "\n",
        "  parsed_fst_file = ast.dump(ast.parse(firstf))# Строим AST\n",
        "\n",
        "  # Нам интересен только модуль body - Обрежем module и type_ignores\n",
        "  parsed_fst_file = parsed_fst_file[13:-19]\n",
        "\n",
        "  parsed_fst_file = removeImports(parsed_fst_file)# Убираем Импорты\n",
        "\n",
        "  pattern=re.compile(r\"[^A-Za-z0-9]\")#Оставляем только буквы и цифры\n",
        "\n",
        "  parsed_fst_file=pattern.sub('',parsed_fst_file)\n",
        "\n",
        "  #Предрабатываем второй файл\n",
        "\n",
        "  parsed_scd_file = ast.dump(ast.parse(secondf))# Строим AST\n",
        "\n",
        "  # Нам интересен только модуль body - Обрежем module и type_ignores\n",
        "  parsed_scd_file = parsed_scd_file[13:-19]\n",
        "\n",
        "  parsed_scd_file = removeImports(parsed_scd_file)# Убираем Импорты\n",
        "\n",
        "  pattern=re.compile(r\"[^A-Za-z0-9]\")#Оставляем только буквы и цифры\n",
        "\n",
        "  parsed_scd_file=pattern.sub('',parsed_scd_file)\n",
        "\n",
        "  #Считаем степень совпадения кодов\n",
        "\n",
        "  res.write(pare_of_files[0]+\" и \"+pare_of_files[1]+\" - \"+str(sim(parsed_fst_file,parsed_scd_file))+\"\\n\")\n",
        "\n",
        "res.close()\n"
      ],
      "metadata": {
        "id": "1UcZky4gufwl"
      },
      "execution_count": 297,
      "outputs": []
    },
    {
      "cell_type": "markdown",
      "source": [
        "Пример вывода:\\\n",
        "Процент совпадения для файлов:\\\n",
        "files/main.py и plagiat1/main.py - 98.869%\\\n",
        "files/loss.py и files/loss.py - 100.0%\\\n",
        "files/main.py и files/loss.py - 31.203%\n",
        "\n"
      ],
      "metadata": {
        "id": "XTByCJXXUmU9"
      }
    }
  ],
  "metadata": {
    "colab": {
      "provenance": []
    },
    "kernelspec": {
      "display_name": "Python 3",
      "name": "python3"
    },
    "language_info": {
      "name": "python"
    }
  },
  "nbformat": 4,
  "nbformat_minor": 0
}