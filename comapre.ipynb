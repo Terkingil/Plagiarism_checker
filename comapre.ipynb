{
  "cells": [
    {
      "cell_type": "code",
      "execution_count": null,
      "metadata": {
        "id": "8yJTL-K1zdEu"
      },
      "outputs": [],
      "source": [
        "import numpy as np\n",
        "import ast\n",
        "import re"
      ]
    },
    {
      "cell_type": "code",
      "source": [
        "import argparse\n",
        "\n",
        "parser = argparse.ArgumentParser(description='Plagiarism_checker')\n",
        "parser.add_argument('fromd', type=str, help='Input directory to analyze')\n",
        "parser.add_argument('tod', type=str, help='Output directory for result')\n",
        "args = parser.parse_args()\n"
      ],
      "metadata": {
        "id": "VgvIOzSAbvtB"
      },
      "execution_count": null,
      "outputs": []
    },
    {
      "cell_type": "markdown",
      "source": [
        "# Вычисление расстояния Левенштейна"
      ],
      "metadata": {
        "id": "Piy1wDIyoJSg"
      }
    },
    {
      "cell_type": "code",
      "source": [
        "def lev(a,b):\n",
        "\n",
        "  if a==b:\n",
        "    return 0\n",
        "\n",
        "  l_a = len(a)\n",
        "  l_b = len(b)\n",
        "  \n",
        "  s1 = [i for i in range(l_a+1)] # Так как для алгоритма нужны только две строки матрицы,\n",
        "  s2 = [i for i in range(l_b+1)] # Будем использовать два однромерных массива вместо неё\n",
        "\n",
        "\n",
        "  for i in range(1,l_a+1):\n",
        "\n",
        "    s2_new = [i for i in range(l_b+1)]\n",
        "    s2_new[0] = i # массив новой строки с первым элем на 1 больше\n",
        "\n",
        "\n",
        "    for j in range(1, l_b+1):\n",
        "\n",
        "\n",
        "      eq_letters = 1     \n",
        "      if a[i-1] == b[j-1]:\n",
        "        eq_letters = 0\n",
        "      \n",
        "      s2_new[j]=min(s2_new[j-1]+1,s2[j]+1,s2[j-1]+eq_letters)\n",
        "\n",
        "\n",
        "    s2=s2_new\n",
        "  \n",
        "  return s2[-1]\n"
      ],
      "metadata": {
        "id": "qyeAzmNpck_E"
      },
      "execution_count": null,
      "outputs": []
    },
    {
      "cell_type": "markdown",
      "source": [
        "# Метрика \"похожести\" программ"
      ],
      "metadata": {
        "id": "sksv_RBc_tZ0"
      }
    },
    {
      "cell_type": "code",
      "source": [
        "def sim(a,b):\n",
        "\n",
        "  l_a = len(a)\n",
        "  l_b = len(b)\n",
        "\n",
        "  ans = (1-lev(a,b)/(max(l_a,l_b)))\n",
        "  ans = str(float('{:.3f}'.format(ans*100))) + \"%\"\n",
        "\n",
        "  return ans"
      ],
      "metadata": {
        "id": "daKv1QUk8sFH"
      },
      "execution_count": null,
      "outputs": []
    },
    {
      "cell_type": "code",
      "source": [
        "sim(\"aba\",\"bb\")"
      ],
      "metadata": {
        "colab": {
          "base_uri": "https://localhost:8080/",
          "height": 35
        },
        "id": "_syYonm0-bbA",
        "outputId": "e5281137-7bdb-4eaa-ede3-f8197b06b764"
      },
      "execution_count": null,
      "outputs": [
        {
          "output_type": "execute_result",
          "data": {
            "text/plain": [
              "'33.333%'"
            ],
            "application/vnd.google.colaboratory.intrinsic+json": {
              "type": "string"
            }
          },
          "metadata": {},
          "execution_count": 266
        }
      ]
    },
    {
      "cell_type": "markdown",
      "source": [
        "Сначала предобратываем код: Преобразовываем в дерево. Так как, это учитывает удаление комментариев и лишних пробелов, для улучшения точности работы остается удалить import в полученном дереве\n",
        "\n",
        "Также любое дерево начинается и заканичватеся одинкаово эти части тоже стоит обрезать для повышения точности "
      ],
      "metadata": {
        "id": "FE9vZXkjqkai"
      }
    },
    {
      "cell_type": "markdown",
      "source": [
        "# Функция удаления импортов из AST"
      ],
      "metadata": {
        "id": "vDarQdIZozhk"
      }
    },
    {
      "cell_type": "code",
      "source": [
        "def removeImports(dump):\n",
        "# Ищем сначала ImportFrom, затем Import для лучшей работы\n",
        "\n",
        "  while re.search(r'ImportFrom',dump):\n",
        "    beg=re.search(r'ImportFrom',dump).span()# Если нашелся импорт ищем начало откуда удалять\n",
        "\n",
        "    \n",
        "    cnt=1\n",
        "    isImport=True\n",
        "    i=beg[1]+1\n",
        "    while isImport:#Алгоритм: Ищем скобку закрывающую импорт, а затем удаляем этот блок\n",
        "      if dump[i]==\"(\":\n",
        "        cnt+=1\n",
        "      elif dump[i]==\")\":\n",
        "        cnt-=1\n",
        "      if cnt==0:\n",
        "        isImport=False\n",
        "      i+=1\n",
        "    \n",
        "  \n",
        "    dump=dump[:beg[0]]+dump[i+2:]\n",
        "\n",
        "\n",
        "  while re.search(r'Import',dump):\n",
        "    beg=re.search(r'Import',dump).span()# Если нашелся импорт ищем начало откуда удалять\n",
        "\n",
        "    \n",
        "    cnt=1\n",
        "    isImport=True\n",
        "    i=beg[1]+1  # Конец нахождения Import\n",
        "    while isImport:\n",
        "      if dump[i]==\"(\":\n",
        "        cnt+=1\n",
        "      elif dump[i]==\")\":\n",
        "        cnt-=1\n",
        "      if cnt==0:\n",
        "        isImport=False\n",
        "      i+=1\n",
        "    \n",
        "    \n",
        "    dump=dump[:beg[0]]+dump[i+2:]#+2 чтобы удалить последний символ и скобку за ним\n",
        "  #for i in range(len(dump)):\n",
        "  return dump\n",
        "    "
      ],
      "metadata": {
        "id": "Hi_56ixuTmgG"
      },
      "execution_count": null,
      "outputs": []
    },
    {
      "cell_type": "code",
      "source": [
        "#a=\"Module(body=[Import(names=[alias(name='ast', asname=None)])], type_ignores=[])\"\n",
        "#print(\"Было: \",a)\n",
        "#print(\"Стало: \",removeImports(a)) # Все скобки в дальнейшем удаляться\n",
        "#Было:  Module(body=[Import(names=[alias(name='ast', asname=None)])], type_ignores=[])\n",
        "#Стало:  Module(body=[ type_ignores=[])\n"
      ],
      "metadata": {
        "colab": {
          "base_uri": "https://localhost:8080/"
        },
        "id": "dNTac8PuAk8E",
        "outputId": "59aa0d5e-78f2-4c97-cfd2-65bd21e3e3bc"
      },
      "execution_count": null,
      "outputs": [
        {
          "output_type": "stream",
          "name": "stdout",
          "text": [
            "Было:  Module(body=[Import(names=[alias(name='ast', asname=None)])], type_ignores=[])\n",
            "Стало:  Module(body=[ type_ignores=[])\n"
          ]
        }
      ]
    },
    {
      "cell_type": "markdown",
      "source": [
        "# Чтение списка файлов"
      ],
      "metadata": {
        "id": "b-pu2Jqbs5Pa"
      }
    },
    {
      "cell_type": "code",
      "execution_count": null,
      "metadata": {
        "id": "mqDPIvxN3rNN"
      },
      "outputs": [],
      "source": [
        "with open(args.fromd) as f:\n",
        "  files_list = f.read().split('\\n')\n",
        "\n",
        "for i in range(len(files_list)):\n",
        "  files_list[i] = files_list[i].split() #Разбиваем список пар файлов в массив"
      ]
    },
    {
      "cell_type": "code",
      "source": [
        "res=open(args.tod,\"w\")\n",
        "res.write(\"Процент совпадения для файлов:\\n\")"
      ],
      "metadata": {
        "colab": {
          "base_uri": "https://localhost:8080/"
        },
        "id": "n4iLXLsw77Nt",
        "outputId": "6c94724f-4855-4219-e23a-4b2e90a88f04"
      },
      "execution_count": null,
      "outputs": [
        {
          "output_type": "execute_result",
          "data": {
            "text/plain": [
              "31"
            ]
          },
          "metadata": {},
          "execution_count": 268
        }
      ]
    },
    {
      "cell_type": "code",
      "source": [
        "for pare_of_files in files_list:#Для каждой пары считаем процент схожих символов в файлах\n",
        "\n",
        "  with open(pare_of_files[0]) as f1:\n",
        "    firstf = f1.read()\n",
        "  \n",
        "  with open(pare_of_files[1]) as f2:\n",
        "    secondf = f2.read()\n",
        "\n",
        "  #Предрабатываем первый файл\n",
        "\n",
        "  parsed_fst_file = ast.dump(ast.parse(firstf))# Строим AST\n",
        "\n",
        "  # Нам интересен только модуль body - Обрежем module и type_ignores\n",
        "  parsed_fst_file = parsed_fst_file[13:-19]\n",
        "\n",
        "  parsed_fst_file = removeImports(parsed_fst_file)# Убираем Импорты\n",
        "\n",
        "  pattern=re.compile(r\"[^A-Za-z0-9]\")#Оставляем только буквы и цифры\n",
        "\n",
        "  parsed_fst_file=pattern.sub('',parsed_fst_file)\n",
        "\n",
        "  #Предрабатываем второй файл\n",
        "\n",
        "  parsed_scd_file = ast.dump(ast.parse(secondf))# Строим AST\n",
        "\n",
        "  # Нам интересен только модуль body - Обрежем module и type_ignores\n",
        "  parsed_scd_file = parsed_scd_file[13:-19]\n",
        "\n",
        "  parsed_scd_file = removeImports(parsed_scd_file)# Убираем Импорты\n",
        "\n",
        "  pattern=re.compile(r\"[^A-Za-z0-9]\")#Оставляем только буквы и цифры\n",
        "\n",
        "  parsed_scd_file=pattern.sub('',parsed_scd_file)\n",
        "\n",
        "  #Считаем степень совпадения кодов\n",
        "\n",
        "  res.write(pare_of_files[0]+\" и \"+pare_of_files[1]+\" - \"+str(sim(parsed_fst_file,parsed_scd_file))+\"\\n\")\n",
        "\n",
        "res.close()\n"
      ],
      "metadata": {
        "id": "1UcZky4gufwl"
      },
      "execution_count": null,
      "outputs": []
    }
  ],
  "metadata": {
    "colab": {
      "provenance": []
    },
    "kernelspec": {
      "display_name": "Python 3",
      "name": "python3"
    },
    "language_info": {
      "name": "python"
    }
  },
  "nbformat": 4,
  "nbformat_minor": 0
}